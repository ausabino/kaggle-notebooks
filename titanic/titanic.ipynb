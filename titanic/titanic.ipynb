{
 "cells": [
  {
   "cell_type": "markdown",
   "metadata": {},
   "source": [
    "# [Titanic: Machine Learning from Disaster](https://www.kaggle.com/c/titanic) #\n",
    "\n",
    "Objetivo é desenvolver um modelo preditivo que responda a questão: que tipos de pessoas tinham mais chance de sobreviver? Usando para isso os dados como nome, idade, gênero, classe sócio econômica, etc.\n",
    "\n",
    "Resolução baseada no tutorial do [Mario Filho](https://github.com/ledmaster/TutorialTitanic)"
   ]
  },
  {
   "cell_type": "markdown",
   "metadata": {},
   "source": [
    "## Bibliotecas ##"
   ]
  },
  {
   "cell_type": "code",
   "execution_count": 167,
   "metadata": {},
   "outputs": [],
   "source": [
    "import pandas as pd\n",
    "import numpy as np\n",
    "\n",
    "from sklearn.ensemble import RandomForestClassifier\n",
    "from sklearn.model_selection import train_test_split"
   ]
  },
  {
   "cell_type": "markdown",
   "metadata": {},
   "source": [
    "## Dados ##"
   ]
  },
  {
   "cell_type": "markdown",
   "metadata": {},
   "source": [
    "Leitura dos dados"
   ]
  },
  {
   "cell_type": "code",
   "execution_count": 168,
   "metadata": {},
   "outputs": [],
   "source": [
    "data_train = pd.read_csv(\"data/train.csv\")\n",
    "data_test = pd.read_csv(\"data/test.csv\")\n",
    "\n",
    "# data_train.head()"
   ]
  },
  {
   "cell_type": "markdown",
   "metadata": {},
   "source": [
    "Quantizando os dados"
   ]
  },
  {
   "cell_type": "code",
   "execution_count": 169,
   "metadata": {},
   "outputs": [],
   "source": [
    "def quant_sex(value):\n",
    "    ''' Change variable Sex from qualitative to quantitative values'''\n",
    "    if value == 'female':\n",
    "        return 1\n",
    "    else:\n",
    "        return 0"
   ]
  },
  {
   "cell_type": "markdown",
   "metadata": {},
   "source": [
    "## Modelos ##"
   ]
  },
  {
   "cell_type": "markdown",
   "metadata": {},
   "source": [
    "Selecionando variavéis de interesse"
   ]
  },
  {
   "cell_type": "code",
   "execution_count": 170,
   "metadata": {},
   "outputs": [],
   "source": [
    "variables = ['Sex_bin', 'Age']\n",
    "\n",
    "data_train['Sex_bin'] = data_train['Sex'].map(quant_sex)\n",
    "sub_data_train = data_train[variables]\n",
    "sub_data_train = sub_data_train.fillna(-1)\n",
    "survived_train = data_train['Survived']\n",
    "\n",
    "data_test['Sex_bin'] = data_test['Sex'].map(quant_sex)\n",
    "sub_data_test = data_test[variables]\n",
    "sub_data_test = sub_data_test.fillna(-1)"
   ]
  },
  {
   "cell_type": "markdown",
   "metadata": {},
   "source": [
    "### Base ###"
   ]
  },
  {
   "cell_type": "markdown",
   "metadata": {},
   "source": [
    "Modelo que assume que todas as mulheres sobrevivem"
   ]
  },
  {
   "cell_type": "code",
   "execution_count": 177,
   "metadata": {},
   "outputs": [],
   "source": [
    "baseline = (data_test['Sex'] == 'female').astype(int)\n",
    "baseline.index = data_test['PassengerId']\n",
    "baseline.name = 'Survived'\n",
    "baseline.to_csv('data/gender_submission.csv', header = True)\n",
    "\n",
    "# Imprime os 10 primeiros registros do arquivo\n",
    "# !head -n10 data/gender_submission.csv"
   ]
  },
  {
   "cell_type": "markdown",
   "metadata": {},
   "source": [
    "### Random Forest ###"
   ]
  },
  {
   "cell_type": "markdown",
   "metadata": {},
   "source": [
    "Criando modelo, executando treinamento e predição"
   ]
  },
  {
   "cell_type": "code",
   "execution_count": 97,
   "metadata": {},
   "outputs": [],
   "source": [
    "model = RandomForestClassifier(n_estimators = 100, n_jobs = -1, random_state = 0)\n",
    "\n",
    "model.fit(sub_data_train, survived_train) \n",
    "\n",
    "survived_predicted_test = model.predict(sub_data_test)\n",
    "\n",
    "# Imprime variavel\n",
    "# survived_predicted_test"
   ]
  },
  {
   "cell_type": "markdown",
   "metadata": {},
   "source": [
    "Exportando resultados para formato de submissão"
   ]
  },
  {
   "cell_type": "code",
   "execution_count": 126,
   "metadata": {},
   "outputs": [],
   "source": [
    "output = pd.Series(survived_predicted_test, index = data_test['PassengerId'], name = 'Survived')\n",
    "output.to_csv(\"data/random_forest_SA.csv\", header = True)\n",
    "\n",
    "# !head -n10 random_forest_SA.csv"
   ]
  },
  {
   "cell_type": "markdown",
   "metadata": {},
   "source": [
    "### Regressão Linear ###"
   ]
  },
  {
   "cell_type": "markdown",
   "metadata": {},
   "source": [
    "## Validação ##"
   ]
  },
  {
   "cell_type": "code",
   "execution_count": 204,
   "metadata": {},
   "outputs": [
    {
     "name": "stdout",
     "output_type": "stream",
     "text": [
      "Baseline\t 0.7802690582959642 \n",
      "Random Forest\t 0.7645739910313901\n"
     ]
    }
   ],
   "source": [
    "sub_train, sub_valid, sub_surv_train, sub_surv_valid  = train_test_split(sub_data_train, survived_train, test_size = 0.5)\n",
    "\n",
    "# Imprime dimensões das tuplas\n",
    "# sub_train.shape, sub_valid.shape, sub_surv_train.shape, sub_surv_valid.shape\n",
    "\n",
    "# Baseline\n",
    "baseline = (sub_valid['Sex_bin'] == 1).astype(np.int64)\n",
    "\n",
    "# Random Forest\n",
    "model = RandomForestClassifier(n_estimators = 100, n_jobs = -1, random_state = 0)\n",
    "model.fit(sub_train, sub_surv_train) \n",
    "survived_predicted_valid_RF = model.predict(sub_valid)\n",
    "\n",
    "print('Baseline\\t', np.mean(sub_surv_valid == baseline), '\\nRandom Forest\\t', np.mean(sub_surv_valid == survived_predicted_valid_RF))"
   ]
  }
 ],
 "metadata": {
  "kernelspec": {
   "display_name": "Python 3",
   "language": "python",
   "name": "python3"
  },
  "language_info": {
   "codemirror_mode": {
    "name": "ipython",
    "version": 3
   },
   "file_extension": ".py",
   "mimetype": "text/x-python",
   "name": "python",
   "nbconvert_exporter": "python",
   "pygments_lexer": "ipython3",
   "version": "3.6.9"
  }
 },
 "nbformat": 4,
 "nbformat_minor": 4
}
